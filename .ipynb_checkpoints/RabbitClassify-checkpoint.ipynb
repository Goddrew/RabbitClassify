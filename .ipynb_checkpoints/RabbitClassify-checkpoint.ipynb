{
 "cells": [
  {
   "cell_type": "code",
   "execution_count": 2,
   "metadata": {
    "scrolled": true
   },
   "outputs": [],
   "source": [
    "from fastbook import *\n",
    "from fastai.vision.widgets import *"
   ]
  },
  {
   "cell_type": "code",
   "execution_count": 3,
   "metadata": {},
   "outputs": [],
   "source": [
    "from PIL import ExifTags\n",
    "from exif import Image as ExifImage"
   ]
  },
  {
   "cell_type": "code",
   "execution_count": 4,
   "metadata": {},
   "outputs": [],
   "source": [
    "import pathlib\n",
    "temp = pathlib.PosixPath\n",
    "pathlib.PosixPath = pathlib.WindowsPath"
   ]
  },
  {
   "cell_type": "code",
   "execution_count": 5,
   "metadata": {},
   "outputs": [],
   "source": [
    "def exif_type_tfms(fn, cls, **kwargs):     \n",
    "  def get_orientation(fn):\n",
    "    with open(fn, 'rb') as image_file:\n",
    "      exif_img = ExifImage(image_file)\n",
    "      try:\n",
    "        return exif_img.orientation.value\n",
    "      except:\n",
    "        # ignore orientation unset\n",
    "        return 1\n",
    "  def f(img, rotate=0, transpose=False):\n",
    "    img = img.rotate(rotate, expand=True)\n",
    "    if transpose:\n",
    "      img = img.transpose(Image.FLIP_LEFT_RIGHT)\n",
    "    return img\n",
    "\n",
    "  # Image.rotate will do shorcuts on these magic angles, so no need for any \n",
    "  # specific resampling strategy\n",
    "  trafo_fns = {\n",
    "    1: partial(f, rotate=0),\n",
    "    6: partial(f, rotate=270),\n",
    "    8: partial(f, rotate=90),\n",
    "    3: partial(f, rotate=180),\n",
    "    2: partial(f, rotate=0, transpose=True),\n",
    "    5: partial(f, rotate=270, transpose=True),\n",
    "    7: partial(f, rotate=90, transpose=True),\n",
    "    4: partial(f, rotate=180, transpose=True),\n",
    "  }\n",
    "  img = cls.create(fn, **kwargs)\n",
    "  orientation = get_orientation(fn)\n",
    "  img = trafo_fns[orientation](img)\n",
    "  return cls(img)\n",
    "\n",
    "def ExifImageBlock(cls=PILImage):\n",
    "  \"\"\"\n",
    "  if images are rotated with the EXIF orientation flag\n",
    "  it must be respected when loading the images\n",
    "\n",
    "  ExifImageBlock can be pickled (which is important to dump learners)\n",
    "  >>> pickle.dumps(ExifImageBlock())\n",
    "  b'...\n",
    "  \"\"\"\n",
    "  return TransformBlock(type_tfms=partial(exif_type_tfms, cls=cls), batch_tfms=IntToFloatTensor)"
   ]
  },
  {
   "cell_type": "code",
   "execution_count": 6,
   "metadata": {
    "scrolled": true
   },
   "outputs": [],
   "source": [
    "path = Path()\n",
    "learn_inf = load_learner(path/'export.pkl', cpu=True)\n",
    "btn_upload = widgets.FileUpload()\n",
    "out_pl = widgets.Output()\n",
    "lbl_pred = widgets.Label()"
   ]
  },
  {
   "cell_type": "code",
   "execution_count": 7,
   "metadata": {},
   "outputs": [],
   "source": [
    "def on_data_change(change):\n",
    "    lbl_pred.value = ''\n",
    "    img = PILImage.create(btn_upload.data[-1])\n",
    "    out_pl.clear_output()\n",
    "    with out_pl: display(img.to_thumb(224,224))\n",
    "    pred,pred_idx,probs = learn_inf.predict(img)\n",
    "    lbl_pred.value = f'Prediction: {pred}\\n Probability: {probs[pred_idx]:.04f}'"
   ]
  },
  {
   "cell_type": "code",
   "execution_count": 8,
   "metadata": {},
   "outputs": [],
   "source": [
    "btn_upload.observe(on_data_change, names=['data'])"
   ]
  },
  {
   "cell_type": "code",
   "execution_count": 9,
   "metadata": {},
   "outputs": [
    {
     "data": {
      "application/vnd.jupyter.widget-view+json": {
       "model_id": "cc116bf84f6a40fd8da6b9d028cffe52",
       "version_major": 2,
       "version_minor": 0
      },
      "text/plain": [
       "VBox(children=(Label(value='Select rabbit!'), FileUpload(value={}, description='Upload'), Output(), Label(valu…"
      ]
     },
     "metadata": {},
     "output_type": "display_data"
    },
    {
     "data": {
      "text/html": [],
      "text/plain": [
       "<IPython.core.display.HTML object>"
      ]
     },
     "metadata": {},
     "output_type": "display_data"
    }
   ],
   "source": [
    "display(VBox([widgets.Label('Select rabbit!'), btn_upload, out_pl, lbl_pred]))"
   ]
  },
  {
   "cell_type": "code",
   "execution_count": null,
   "metadata": {},
   "outputs": [],
   "source": []
  }
 ],
 "metadata": {
  "kernelspec": {
   "display_name": "Python 3",
   "language": "python",
   "name": "python3"
  },
  "language_info": {
   "codemirror_mode": {
    "name": "ipython",
    "version": 3
   },
   "file_extension": ".py",
   "mimetype": "text/x-python",
   "name": "python",
   "nbconvert_exporter": "python",
   "pygments_lexer": "ipython3",
   "version": "3.8.5"
  }
 },
 "nbformat": 4,
 "nbformat_minor": 4
}
